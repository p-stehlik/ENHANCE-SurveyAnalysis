{
 "cells": [
  {
   "cell_type": "markdown",
   "id": "d2ae23e3-eb2a-4254-a121-1d0e8923ef36",
   "metadata": {},
   "source": [
    "Creates visuals of quality of reporting and study design results"
   ]
  },
  {
   "cell_type": "code",
   "execution_count": 1,
   "id": "6d38df36-9484-4d5f-af09-931251cab222",
   "metadata": {},
   "outputs": [
    {
     "name": "stderr",
     "output_type": "stream",
     "text": [
      "\n",
      "Attaching package: 'dplyr'\n",
      "\n",
      "The following objects are masked from 'package:stats':\n",
      "\n",
      "    filter, lag\n",
      "\n",
      "The following objects are masked from 'package:base':\n",
      "\n",
      "    intersect, setdiff, setequal, union\n",
      "\n",
      "Registered S3 methods overwritten by 'ggplot2':\n",
      "  method         from \n",
      "  [.quosures     rlang\n",
      "  c.quosures     rlang\n",
      "  print.quosures rlang\n",
      "Warning message:\n",
      "\"package 'ggpubr' was built under R version 3.6.3\"Loading required package: magrittr\n",
      "\n",
      "Attaching package: 'gridExtra'\n",
      "\n",
      "The following object is masked from 'package:dplyr':\n",
      "\n",
      "    combine\n",
      "\n"
     ]
    }
   ],
   "source": [
    "#load libraries\n",
    "library(dplyr)\n",
    "library(ggplot2)\n",
    "library(ggpubr)\n",
    "library(gridExtra)\n"
   ]
  },
  {
   "cell_type": "markdown",
   "id": "16f2a2b1-1c87-4288-b4dc-77f62028c143",
   "metadata": {},
   "source": [
    "# Quality of Reporting"
   ]
  },
  {
   "cell_type": "code",
   "execution_count": 2,
   "id": "775c6ec8-b2b9-448e-8c3f-18b7b88794cc",
   "metadata": {},
   "outputs": [],
   "source": [
    "#import file\n",
    "FileName= \"Results/UploadedArticle/ForPlotting_ReportingQual.csv\"\n",
    "\n",
    "df<-read.csv(FileName)\n",
    "\n",
    "#colnames(df)"
   ]
  },
  {
   "cell_type": "code",
   "execution_count": 3,
   "id": "103f75b3-3cf5-4c85-88a0-cb317ba259f0",
   "metadata": {},
   "outputs": [],
   "source": [
    "# get all studies that are NOT AGREE\n",
    "\n",
    "df_NotAgree = df[df$Reporting.tool != 'AGREE', ]\n",
    "\n",
    "#df_NotAgree"
   ]
  },
  {
   "cell_type": "code",
   "execution_count": 4,
   "id": "eea31c3a-ed0b-429a-a4c0-e19c23d349d8",
   "metadata": {},
   "outputs": [],
   "source": [
    "#set order of facets\n",
    "\n",
    "SectionOrder <- c('Title', 'Abstract', 'Introduction', 'Methods','Results', 'Discussion', 'Other')\n",
    "\n",
    "df_NotAgree$Section = factor(df_NotAgree$Section,\n",
    "                    levels=SectionOrder)\n",
    "\n",
    "\n",
    "\n",
    "articleOrder = rev(c('Article 1',\n",
    "                'Article 2',\n",
    "                'Article 3',\n",
    "                'Article 4',  \n",
    "                'Article 5', \n",
    "                'Article 6',\n",
    "                'Article 7',\n",
    "                'Article 8', \n",
    " 'Article 11',\n",
    " 'Article 12',\n",
    " 'Article 13',\n",
    " 'Article 14',\n",
    " 'Article 15',\n",
    " 'Article 16',\n",
    " 'Article 18',\n",
    " \n",
    " 'Article 20',\n",
    " 'Article 22',\n",
    " 'Article 24',\n",
    " 'Article 25',\n",
    " 'Article 26',\n",
    " \n",
    " 'Article 33',\n",
    " 'Article 34',\n",
    " 'Article 35',\n",
    " 'Article 36',\n",
    " 'Article 37',\n",
    " 'Article 38',\n",
    " 'Article 39'\n",
    " ))\n",
    "\n",
    "\n",
    "df_NotAgree$Article = factor(df_NotAgree$Article,\n",
    "                    levels=articleOrder)"
   ]
  },
  {
   "cell_type": "code",
   "execution_count": 5,
   "id": "49d6f5db-31dc-44b1-a614-d7e6602b2933",
   "metadata": {},
   "outputs": [
    {
     "data": {
      "text/html": [
       "28"
      ],
      "text/latex": [
       "28"
      ],
      "text/markdown": [
       "28"
      ],
      "text/plain": [
       "[1] 28"
      ]
     },
     "metadata": {},
     "output_type": "display_data"
    },
    {
     "data": {
      "text/html": [
       "27"
      ],
      "text/latex": [
       "27"
      ],
      "text/markdown": [
       "27"
      ],
      "text/plain": [
       "[1] 27"
      ]
     },
     "metadata": {},
     "output_type": "display_data"
    }
   ],
   "source": [
    "length(unique(df$Article))\n",
    "length(unique(df_NotAgree$Article))\n",
    "\n"
   ]
  },
  {
   "cell_type": "code",
   "execution_count": null,
   "id": "56c0c2b2-8c16-4e15-ae11-3b5db3f7b030",
   "metadata": {},
   "outputs": [
    {
     "ename": "ERROR",
     "evalue": "Error in eval(expr, envir, enclos): object 'df_NotAgree' not found\n",
     "output_type": "error",
     "traceback": [
      "Error in eval(expr, envir, enclos): object 'df_NotAgree' not found\nTraceback:\n"
     ]
    }
   ],
   "source": [
    "data <- df_NotAgree\n",
    "\n",
    "plot_NotAgree = ggplot(data,\n",
    "                       aes(fill=Score, \n",
    "                           y=count, \n",
    "                           x=Article)) + \n",
    "\n",
    "    geom_bar(position=\"fill\", \n",
    "             stat=\"identity\") +\n",
    "\n",
    "\n",
    "\n",
    "facet_wrap(~Section,\n",
    "          ncol = 4) +\n",
    "\n",
    "#set colours for the scale\n",
    "scale_fill_manual(values= c(\"#d73027\",  \"#ffffbf\", \"#1a9850\"),\n",
    "                 name = \"Reported\",\n",
    "                 labels = c(\"No\", \"Unclear\", \"Yes\")) +\n",
    "\n",
    "#title\n",
    "ggtitle(\"A\") +\n",
    "        \n",
    "#axis labels\n",
    "xlab(\"\") +\n",
    "\n",
    "ylab(\"%\") +\n",
    "        \n",
    "\n",
    "\n",
    "#create the theme\n",
    "theme(line = element_blank(),\n",
    "      axis.text.x=element_blank(), \n",
    "      axis.ticks.x=element_blank() ,        \n",
    "       axis.text.y= element_text(size=6)\n",
    "        ) +\n",
    "\n",
    "\n",
    "#flip graph\n",
    "coord_flip() \n",
    "\n",
    "plot_NotAgree"
   ]
  },
  {
   "cell_type": "code",
   "execution_count": 7,
   "id": "d886593a-66b0-450c-823f-92f5488fca60",
   "metadata": {},
   "outputs": [],
   "source": [
    "# get all studies that are NOT AGREE\n",
    "\n",
    "df_Agree = df[df$Reporting.tool == 'AGREE', ]\n",
    "\n",
    "SectionOrder <- rev(c('Domain 1', 'Domain 2', 'Domain 3', 'Domain 4','Domain 5', 'Domain 6'))\n",
    "\n",
    "df_Agree$Section = factor(df_Agree$Section,\n",
    "                    levels=SectionOrder)\n"
   ]
  },
  {
   "cell_type": "code",
   "execution_count": 8,
   "id": "4c5e32b8-9265-40d3-a480-77b81cdcc906",
   "metadata": {},
   "outputs": [],
   "source": [
    "data <- df_Agree\n",
    "\n",
    "plot_Agree = ggplot(data,\n",
    "                       aes(fill=Score, \n",
    "                           y=count, \n",
    "                           x=Section)) + \n",
    "\n",
    "    geom_bar(position=\"fill\", \n",
    "             stat=\"identity\") +\n",
    "\n",
    "#facet_wrap(~Section,\n",
    " #         ncol = 4) +\n",
    "\n",
    "#set colours for the scale\n",
    "scale_fill_manual(values= c(\"#d73027\",  \"#ffffbf\", \"#1a9850\"),\n",
    "                 name = \"Reported\",\n",
    "                 labels = c(\"No\", \"Unclear\", \"Yes\")) +\n",
    "\n",
    "#title\n",
    "#ggtitle(\"\") +\n",
    "ggtitle(\"B\") +\n",
    "        \n",
    "#axis labels\n",
    "xlab(\"\") +\n",
    "\n",
    "ylab(\"%\") +\n",
    "        \n",
    "\n",
    "\n",
    "#create the theme\n",
    "theme(line = element_blank(),\n",
    "      axis.text.x=element_blank(), \n",
    "      #axis.ticks.x=element_blank()\n",
    "      legend.position=\"none\",        \n",
    "       axis.text.y= element_text(size=6)\n",
    "            \n",
    "        ) +\n",
    "\n",
    "\n",
    "#flip graph\n",
    "coord_flip()  \n",
    "\n",
    "#plot_Agree"
   ]
  },
  {
   "cell_type": "markdown",
   "id": "af73b37f-d77f-4de2-84bb-024fcc9534f3",
   "metadata": {},
   "source": [
    "## Put them together"
   ]
  },
  {
   "cell_type": "code",
   "execution_count": 9,
   "id": "99cac2b9-2ca2-4fb8-aa19-8e0427a6648d",
   "metadata": {},
   "outputs": [
    {
     "name": "stderr",
     "output_type": "stream",
     "text": [
      "Warning message:\n",
      "\"Graphs cannot be vertically aligned unless the axis parameter is set. Placing graphs unaligned.\"Saving 6.67 x 6.67 in image\n"
     ]
    },
    {
     "data": {
      "image/png": "[encoded data removed]",
      "text/plain": [
       "plot without title"
      ]
     },
     "metadata": {},
     "output_type": "display_data"
    }
   ],
   "source": [
    "#grid.arrange(plot_NotAgree, arrangeGrob(plot_Agree,), ncol = 2)\n",
    "\n",
    "\n",
    "\n",
    "QualReporting<- ggarrange(plot_NotAgree,\n",
    "          \n",
    "          ggarrange(plot_Agree,NULL, NULL,  ncol = 3),\n",
    "          \n",
    "          \n",
    "          \n",
    "          ncol = 1, nrow = 2,  align = \"v\", \n",
    "          widths = c(2), heights = c(5, 1),\n",
    "          common.legend = TRUE,\n",
    "         legend = \"bottom\")\n",
    "\n",
    "\n",
    "#save file\n",
    "\n",
    "FileLocation = \"Results/UploadedArticle/Visuals/ReportingQual.png\"\n",
    "\n",
    "ggsave(file=FileLocation, QualReporting)\n",
    "\n",
    "\n",
    "QualReporting"
   ]
  },
  {
   "cell_type": "markdown",
   "id": "12c5c069-44d1-4e7c-ae8e-49852d96dfb3",
   "metadata": {},
   "source": [
    "# Study Quality\n",
    "\n",
    "## AMSTAR"
   ]
  },
  {
   "cell_type": "code",
   "execution_count": 10,
   "id": "87a30d65-2a76-4fad-8cc7-e5a6cb0193b6",
   "metadata": {},
   "outputs": [],
   "source": [
    "#import file\n",
    "FileName= \"Results/UploadedArticle/ForPlotting_AMSTAR.csv\"\n",
    "\n",
    "df_AMSTAR<-read.csv(FileName)\n",
    "\n",
    "df_AMSTAR$ArticleAnnotate = paste(df_AMSTAR$Article, \" (\", df_AMSTAR$Study.Type.Code, \")\", sep = \"\")\n",
    "\n",
    "\n",
    "\n",
    "#colnames(df_AMSTAR)\n",
    "\n",
    "\n",
    "\n",
    "#head(df_AMSTAR)"
   ]
  },
  {
   "cell_type": "code",
   "execution_count": 11,
   "id": "03a33bbc-84b7-4e69-b4f3-5812e63e6448",
   "metadata": {},
   "outputs": [],
   "source": [
    "#set orders\n",
    "questions =c('Item 1',\n",
    "             'Item 2',\n",
    "             'Item 3',\n",
    "             'Item 4',\n",
    "             'Item 5',\n",
    "             'Item 6',\n",
    "            'Item 7',\n",
    "             'Item 8',\n",
    "             'Item 9',\n",
    "            'Item 10',\n",
    "             'Item 11a',\n",
    "             'Item 11b',\n",
    "             'Item 12',\n",
    "             'Item 13',\n",
    "             'Item 14',\n",
    "             'Item 15',\n",
    "             'Item 16')\n",
    "\n",
    "\n",
    "articleOrder = rev(unique(df_AMSTAR$ArticleAnnotate))\n",
    "\n",
    "\n",
    "color_dict = c('Yes'= \"#1a9850\", \n",
    "              'No'= \"#d73027\", \n",
    "              'Partial Yes'= \"#fee08b\", \n",
    "              'NA'= \"#f7f7f7\", \n",
    "              np.nan= \"#f7f7f7\",\n",
    "              'No meta-analysis conducted'= \"#f7f7f7\")\n"
   ]
  },
  {
   "cell_type": "code",
   "execution_count": 12,
   "id": "638d0ae8-2bcd-44b2-90cf-ea2146f90623",
   "metadata": {},
   "outputs": [],
   "source": [
    "Heat_AMSTAR <- ggplot(df_AMSTAR,\n",
    "       aes(x=Item,\n",
    "           y=ArticleAnnotate,\n",
    "           fill=Judgement)) +\n",
    "\n",
    "geom_tile(color='white',size=.1) +\n",
    "\n",
    "\n",
    "#set order of bars based on section\n",
    "scale_x_discrete(limits=questions) +\n",
    "         \n",
    "#set order of rows based on section\n",
    "scale_y_discrete(limits=articleOrder) +\n",
    "         \n",
    "#heading\n",
    "labs(title=\"AMSTAR\")+\n",
    "\n",
    "#axis labels\n",
    "xlab(\"\")+\n",
    "ylab(\"\")+\n",
    "\n",
    "#blank background and gridlines\n",
    "theme_classic() +\n",
    "         \n",
    "#fill colour\n",
    "scale_fill_manual(values = color_dict, \n",
    "                 labels = c(\"No\", \"No meta-analysis conducted/NA\", \"Partial yes\", \"Yes\", \"\", \"\")\n",
    "                 # guide = FALSE\n",
    "                 ) +\n",
    "\n",
    "#add annotations\n",
    "geom_text(aes(label = Text), size=2) +\n",
    "\n",
    "theme(legend.position=\"bottom\", \n",
    "      legend.box=\"vertical\", \n",
    "      legend.margin=margin(), #remove the legend\n",
    "      \n",
    "      panel.grid.major= element_blank(),\n",
    "      #   panel_border=p9.element_blank(),\n",
    "      panel.background=element_blank(),\n",
    "      axis.text.x= element_text(angle=90, hjust=1), #rotate x axis labels                                \n",
    "      axis.text.y= element_text(size=6)\n",
    "                    )    +\n",
    "\n",
    "\n",
    "guides(fill=guide_legend(nrow=3,byrow=TRUE))\n",
    "\n",
    "\n",
    "#Heat_AMSTAR"
   ]
  },
  {
   "cell_type": "markdown",
   "id": "4c3353cf-069b-42fd-a61f-dfec812ae67e",
   "metadata": {},
   "source": [
    "## MMAT"
   ]
  },
  {
   "cell_type": "code",
   "execution_count": 13,
   "id": "7399aa2e-2021-4a20-a293-49fb8a1acf11",
   "metadata": {},
   "outputs": [],
   "source": [
    "#import file\n",
    "FileName= \"Results/UploadedArticle/ForPlotting_MMAT.csv\"\n",
    "\n",
    "df_MMAT<-read.csv(FileName)\n",
    "\n",
    "df_MMAT$ArticleAnnotate = paste(df_MMAT$Article, \" (\", df_MMAT$Study.Type.Code, \")\", sep = \"\")\n",
    "\n",
    "\n",
    "\n",
    "#colnames(df_MMAT)\n",
    "\n",
    "\n",
    "\n",
    "#head(df_MMAT)"
   ]
  },
  {
   "cell_type": "code",
   "execution_count": 14,
   "id": "cb366bc3-dd8e-44ef-b508-d3a2c1257509",
   "metadata": {},
   "outputs": [],
   "source": [
    "#set orders\n",
    "\n",
    "#article order\n",
    "articleOrder = rev(unique(df_MMAT$ArticleAnnotate))\n",
    "\n",
    "#item order\n",
    "questions = c(\"S1\", \"S2\" , \"1\", \"2\", \"3\", \"4\", \"5\")\n",
    "\n",
    "color_dict = c('Yes'= \"#1a9850\", \n",
    "              'No'= \"#d73027\", \n",
    "              \"Can't tell\" = \"#fee08b\", \n",
    "              'NA'= \"#f7f7f7\"\n",
    "              )\n",
    "\n",
    "\n"
   ]
  },
  {
   "cell_type": "code",
   "execution_count": 15,
   "id": "61ecf523-3dc3-4b1e-9477-ac87c437a512",
   "metadata": {},
   "outputs": [],
   "source": [
    "Heat_MMAT <- ggplot(df_MMAT,\n",
    "       aes(x=Question,\n",
    "           y=ArticleAnnotate,\n",
    "           fill=Judgement)) +\n",
    "               \n",
    "\n",
    "geom_tile(color='white',size=.1) +\n",
    "\n",
    "\n",
    "#set order of bars based on section\n",
    "scale_x_discrete(limits=questions) +\n",
    "         \n",
    "#set order of rows based on section\n",
    "scale_y_discrete(limits=articleOrder) +\n",
    "         \n",
    "#heading\n",
    "labs(title=\"MMAT\")+\n",
    "\n",
    "#axis labels\n",
    "xlab(\"\")+\n",
    "ylab(\"\")+\n",
    "\n",
    "#blank background and gridlines\n",
    "theme_classic() +\n",
    "         \n",
    "#fill colour\n",
    "scale_fill_manual(values=color_dict) +\n",
    "\n",
    "#add annotations\n",
    "#geom_text(aes(label = Text), size=5) +\n",
    "\n",
    "theme(legend.position=\"bottom\", legend.box=\"vertical\", legend.margin=margin(),#remove the legend\n",
    "      panel.grid.major= element_blank(),\n",
    "      #   panel_border=p9.element_blank(),\n",
    "      panel.background=element_blank(),\n",
    "      axis.text.x= element_text(angle=90, hjust=1), #rotate x axis labels                        \n",
    "       axis.text.y= element_text(size=6)             )    +\n",
    "\n",
    "\n",
    "guides(fill=guide_legend(nrow=2,byrow=TRUE))\n",
    "\n",
    "\n",
    "#Heat_MMAT"
   ]
  },
  {
   "cell_type": "markdown",
   "id": "b39d0b67-4c92-4890-ae3d-9fcf8e4f00f6",
   "metadata": {},
   "source": [
    "## MI-CHE"
   ]
  },
  {
   "cell_type": "code",
   "execution_count": 16,
   "id": "b657b075-6907-4a69-90fc-05ea8b4e9d00",
   "metadata": {},
   "outputs": [],
   "source": [
    "#import file\n",
    "FileName= \"Results/UploadedArticle/ForPlotting_MI-CHE.csv\"\n",
    "\n",
    "df_MICHE<-read.csv(FileName)\n",
    "\n",
    "#df_MICHE$ArticleAnnotate = paste(df_MICHE$Article, \" (\", df_MICHE$Study.Type.Code, \")\", sep = \"\")\n",
    "\n",
    "\n",
    "#colnames(df_MICHE)\n",
    "\n",
    "\n",
    "#head(df_MICHE)"
   ]
  },
  {
   "cell_type": "code",
   "execution_count": 17,
   "id": "14cc5417-157f-4282-bf51-80c25e16d560",
   "metadata": {},
   "outputs": [],
   "source": [
    "#set orders\n",
    "\n",
    "#article order\n",
    "articleOrder = rev(unique(df_MICHE$Article))\n",
    "\n",
    "#item order\n",
    "questions = c('Q1', 'Q2', 'Q3', 'Q4', 'Q5', 'Q6', 'Q7', 'Q8','Q9', 'Q10')\n",
    "\n",
    "color_dict = c('Yes'= \"#1a9850\", \n",
    "              'No'= \"#d73027\", \n",
    "              \"To some extent\"= \"#fee08b\", \n",
    "              'Other'= \"#f7f7f7\"\n",
    "              )\n",
    "\n",
    "\n"
   ]
  },
  {
   "cell_type": "code",
   "execution_count": 18,
   "id": "6bfe2008-e1e8-4299-a18e-90937b8d29d9",
   "metadata": {},
   "outputs": [],
   "source": [
    "Heat_MICHE <- ggplot(df_MICHE,\n",
    "       aes(x=Question,\n",
    "           y=Article,\n",
    "           fill=Judgement)) +\n",
    "               \n",
    "\n",
    "geom_tile(color='white',size=.1) +\n",
    "\n",
    "\n",
    "#set order of bars based on section\n",
    "scale_x_discrete(limits=questions) +\n",
    "         \n",
    "#set order of rows based on section\n",
    "scale_y_discrete(limits=articleOrder) +\n",
    "         \n",
    "#heading\n",
    "labs(title=\"MI-CHE\")+\n",
    "\n",
    "#axis labels\n",
    "xlab(\"\")+\n",
    "ylab(\"\")+\n",
    "\n",
    "#blank background and gridlines\n",
    "theme_classic() +\n",
    "         \n",
    "#fill colour\n",
    "scale_fill_manual(values=color_dict) +\n",
    "\n",
    "#add annotations\n",
    "#geom_text(aes(label = Text), size=5) +\n",
    "\n",
    "theme(legend.position=\"bottom\", legend.box=\"vertical\", legend.margin=margin(), #remove the legend\n",
    "      panel.grid.major= element_blank(),\n",
    "      #   panel_border=p9.element_blank(),\n",
    "      panel.background=element_blank(),\n",
    "      axis.text.x= element_text(angle=90, hjust=1), #rotate x axis labels                        \n",
    "              \n",
    "       axis.text.y= element_text(size=6)        )    +\n",
    "\n",
    "\n",
    "guides(fill=guide_legend(nrow=2,byrow=TRUE))\n",
    "\n",
    "#Heat_MICHE"
   ]
  },
  {
   "cell_type": "markdown",
   "id": "6ec42358-90ea-4995-b4b0-5fef4f22b014",
   "metadata": {},
   "source": [
    "## QUADAS-2"
   ]
  },
  {
   "cell_type": "code",
   "execution_count": 19,
   "id": "9fc05b75-5848-4579-a7f0-0a0ffb65c9af",
   "metadata": {},
   "outputs": [],
   "source": [
    "#import file\n",
    "FileName= \"Results/UploadedArticle/ForPlotting_QUADAS-2.csv\"\n",
    "\n",
    "df_QUADAS<-read.csv(FileName)\n",
    "\n",
    "#df_MICHE$ArticleAnnotate = paste(df_MICHE$Article, \" (\", df_MICHE$Study.Type.Code, \")\", sep = \"\")\n",
    "\n",
    "\n",
    "#colnames(df_QUADAS)\n",
    "\n",
    "\n",
    "#head(df_QUADAS)"
   ]
  },
  {
   "cell_type": "code",
   "execution_count": 20,
   "id": "076de678-db1e-44f6-bea2-ec54a1fa1c02",
   "metadata": {},
   "outputs": [],
   "source": [
    "#set orders\n",
    "\n",
    "#article order\n",
    "articleOrder = rev(unique(df_QUADAS$Article))\n",
    "\n",
    "\n",
    "#questions\n",
    "questions = c('Patient Selection', 'Index Test', 'Reference Standard','Flow And Timing')\n",
    "\n",
    "color_dict = c('Low'= \"#1a9850\", \n",
    "              'High'= \"#d73027\", \n",
    "              \"Unclear\"= \"#fee08b\" \n",
    "              )\n",
    "\n"
   ]
  },
  {
   "cell_type": "code",
   "execution_count": 21,
   "id": "6473acf5-6622-425d-8929-53b6fbaf3f20",
   "metadata": {},
   "outputs": [],
   "source": [
    "Heat_QUADAS <- ggplot(df_QUADAS,\n",
    "       aes(x=Question,\n",
    "           y=Article,\n",
    "           fill=Judgement)) +\n",
    "               \n",
    "\n",
    "geom_tile(color='white',size=.1) +\n",
    "\n",
    "\n",
    "#set order of bars based on section\n",
    "scale_x_discrete(limits=questions) +\n",
    "         \n",
    "#set order of rows based on section\n",
    "scale_y_discrete(limits=articleOrder) +\n",
    "         \n",
    "#heading\n",
    "labs(title=\"QUADAS-2\")+\n",
    "\n",
    "#axis labels\n",
    "xlab(\"\")+\n",
    "ylab(\"\")+\n",
    "\n",
    "#blank background and gridlines\n",
    "theme_classic() +\n",
    "         \n",
    "#fill colour\n",
    "scale_fill_manual(values=color_dict) +\n",
    "\n",
    "#add annotations\n",
    "#geom_text(aes(label = Text), size=5) +\n",
    "\n",
    "theme(legend.position=\"bottom\", legend.box=\"vertical\", legend.margin=margin(), #remove the legend\n",
    "      panel.grid.major= element_blank(),\n",
    "      #   panel_border=p9.element_blank(),\n",
    "      panel.background=element_blank(),\n",
    "      axis.text.x= element_text(angle=90, hjust=1), #rotate x axis labels                        \n",
    "    \n",
    "       axis.text.y= element_text(size=6))    \n",
    "\n",
    "#Heat_QUADAS"
   ]
  },
  {
   "cell_type": "markdown",
   "id": "5b96df0f-86df-4d0c-a50d-6085f699bb60",
   "metadata": {},
   "source": [
    "## Put them together"
   ]
  },
  {
   "cell_type": "code",
   "execution_count": 22,
   "id": "17151e6b-fd50-4468-8b76-91e44b7e7e4c",
   "metadata": {},
   "outputs": [
    {
     "name": "stderr",
     "output_type": "stream",
     "text": [
      "Warning message:\n",
      "\"Removed 17 rows containing missing values (geom_text).\""
     ]
    },
    {
     "data": {
      "image/png": "[encoded data removed]",
      "text/plain": [
       "plot without title"
      ]
     },
     "metadata": {},
     "output_type": "display_data"
    }
   ],
   "source": [
    "StudyQual <- grid.arrange(Heat_AMSTAR, \n",
    "                          Heat_MMAT,\n",
    "                          Heat_QUADAS, \n",
    "                          Heat_MICHE, \n",
    "             ncol = 2, \n",
    "             layout_matrix = cbind(c(1,1,1,1,1,1,1,NA,3,3,3,3,3,3,NA),\n",
    "                                   c(1,1,1,1,1,1,1,NA,3,3,3,3,3,3,NA),\n",
    "                                   c(2,2,2,2,2,2,2,NA,4,4,4,4,NA,NA,NA),\n",
    "                                   c(2,2,2,2,2,2,2,NA,4,4,4,4,NA,NA,NA)\n",
    "                                  # c(3,3,4,NA,NA,NA)\n",
    "                                  )\n",
    "            )\n",
    "\n",
    "\n",
    "#FileLocation = \"Results/UploadedArticle/Visuals/StudyQual.png\"\n",
    "\n",
    "#ggsave(file=FileLocation, StudyQual)"
   ]
  },
  {
   "cell_type": "code",
   "execution_count": null,
   "id": "f0aea0d4-fa0e-461c-a3b2-14f975552117",
   "metadata": {},
   "outputs": [],
   "source": []
  },
  {
   "cell_type": "markdown",
   "id": "3bbebdbb-f9fa-456a-b2af-416c9f88035f",
   "metadata": {},
   "source": [
    "## Overall"
   ]
  },
  {
   "cell_type": "code",
   "execution_count": 23,
   "id": "7c045613-ff78-46d9-8101-cfcfad9a3263",
   "metadata": {},
   "outputs": [
    {
     "data": {
      "text/html": [
       "<table>\n",
       "<thead><tr><th scope=col>ArticleNumber</th><th scope=col>Tool</th><th scope=col>QualOrder</th><th scope=col>Judgement</th><th scope=col>count</th><th scope=col>ToolArticle</th><th scope=col>Prop</th></tr></thead>\n",
       "<tbody>\n",
       "\t<tr><td>Article 26 (6)      </td><td>MMAT                </td><td>0                   </td><td>High                </td><td>3                   </td><td>MMAT: Article 26 (6)</td><td>50%                 </td></tr>\n",
       "\t<tr><td>Article 26 (6)      </td><td>MMAT                </td><td>0                   </td><td>Low                 </td><td>0                   </td><td>MMAT: Article 26 (6)</td><td>0%                  </td></tr>\n",
       "\t<tr><td>Article 26 (6)      </td><td>MMAT                </td><td>0                   </td><td>Unclear/Moderate    </td><td>3                   </td><td>MMAT: Article 26 (6)</td><td>50%                 </td></tr>\n",
       "\t<tr><td>Article 35 (6)      </td><td>MMAT                </td><td>1                   </td><td>High                </td><td>2                   </td><td>MMAT: Article 35 (6)</td><td>33%                 </td></tr>\n",
       "\t<tr><td>Article 35 (6)      </td><td>MMAT                </td><td>1                   </td><td>Low                 </td><td>1                   </td><td>MMAT: Article 35 (6)</td><td>16%                 </td></tr>\n",
       "\t<tr><td>Article 35 (6)      </td><td>MMAT                </td><td>1                   </td><td>Unclear/Moderate    </td><td>3                   </td><td>MMAT: Article 35 (6)</td><td>50%                 </td></tr>\n",
       "</tbody>\n",
       "</table>\n"
      ],
      "text/latex": [
       "\\begin{tabular}{r|lllllll}\n",
       " ArticleNumber & Tool & QualOrder & Judgement & count & ToolArticle & Prop\\\\\n",
       "\\hline\n",
       "\t Article 26 (6)       & MMAT                 & 0                    & High                 & 3                    & MMAT: Article 26 (6) & 50\\%               \\\\\n",
       "\t Article 26 (6)       & MMAT                 & 0                    & Low                  & 0                    & MMAT: Article 26 (6) & 0\\%                \\\\\n",
       "\t Article 26 (6)       & MMAT                 & 0                    & Unclear/Moderate     & 3                    & MMAT: Article 26 (6) & 50\\%               \\\\\n",
       "\t Article 35 (6)       & MMAT                 & 1                    & High                 & 2                    & MMAT: Article 35 (6) & 33\\%               \\\\\n",
       "\t Article 35 (6)       & MMAT                 & 1                    & Low                  & 1                    & MMAT: Article 35 (6) & 16\\%               \\\\\n",
       "\t Article 35 (6)       & MMAT                 & 1                    & Unclear/Moderate     & 3                    & MMAT: Article 35 (6) & 50\\%               \\\\\n",
       "\\end{tabular}\n"
      ],
      "text/markdown": [
       "\n",
       "| ArticleNumber | Tool | QualOrder | Judgement | count | ToolArticle | Prop |\n",
       "|---|---|---|---|---|---|---|\n",
       "| Article 26 (6)       | MMAT                 | 0                    | High                 | 3                    | MMAT: Article 26 (6) | 50%                  |\n",
       "| Article 26 (6)       | MMAT                 | 0                    | Low                  | 0                    | MMAT: Article 26 (6) | 0%                   |\n",
       "| Article 26 (6)       | MMAT                 | 0                    | Unclear/Moderate     | 3                    | MMAT: Article 26 (6) | 50%                  |\n",
       "| Article 35 (6)       | MMAT                 | 1                    | High                 | 2                    | MMAT: Article 35 (6) | 33%                  |\n",
       "| Article 35 (6)       | MMAT                 | 1                    | Low                  | 1                    | MMAT: Article 35 (6) | 16%                  |\n",
       "| Article 35 (6)       | MMAT                 | 1                    | Unclear/Moderate     | 3                    | MMAT: Article 35 (6) | 50%                  |\n",
       "\n"
      ],
      "text/plain": [
       "  ArticleNumber  Tool QualOrder Judgement        count ToolArticle         \n",
       "1 Article 26 (6) MMAT 0         High             3     MMAT: Article 26 (6)\n",
       "2 Article 26 (6) MMAT 0         Low              0     MMAT: Article 26 (6)\n",
       "3 Article 26 (6) MMAT 0         Unclear/Moderate 3     MMAT: Article 26 (6)\n",
       "4 Article 35 (6) MMAT 1         High             2     MMAT: Article 35 (6)\n",
       "5 Article 35 (6) MMAT 1         Low              1     MMAT: Article 35 (6)\n",
       "6 Article 35 (6) MMAT 1         Unclear/Moderate 3     MMAT: Article 35 (6)\n",
       "  Prop\n",
       "1 50% \n",
       "2 0%  \n",
       "3 50% \n",
       "4 33% \n",
       "5 16% \n",
       "6 50% "
      ]
     },
     "metadata": {},
     "output_type": "display_data"
    },
    {
     "name": "stdout",
     "output_type": "stream",
     "text": [
      "'data.frame':\t81 obs. of  7 variables:\n",
      " $ ArticleNumber: Factor w/ 27 levels \"Article 1 (1)\",..: 14 14 14 18 18 18 8 8 8 26 ...\n",
      " $ Tool         : Factor w/ 4 levels \"AMSTAR\",\"MI-Che\",..: 3 3 3 3 3 3 1 1 1 1 ...\n",
      " $ QualOrder    : int  0 0 0 1 1 1 2 2 2 3 ...\n",
      " $ Judgement    : Factor w/ 3 levels \"High\",\"Low\",\"Unclear/Moderate\": 1 2 3 1 2 3 1 2 3 1 ...\n",
      " $ count        : int  3 0 3 2 1 3 5 3 1 9 ...\n",
      " $ ToolArticle  : Factor w/ 27 levels \"QUADAS-2: Article 14 (10)\",..: 27 27 27 26 26 26 25 25 25 24 ...\n",
      " $ Prop         : Factor w/ 28 levels \"0%\",\"100%\",\"11%\",..: 17 1 17 11 6 17 19 11 3 22 ...\n"
     ]
    }
   ],
   "source": [
    "#import file\n",
    "FileName= \"Results/UploadedArticle/ForPlotting_StudyQualALL.csv\"\n",
    "\n",
    "df_StudyQual<-read.csv(FileName)\n",
    "\n",
    "\n",
    "#set article order\n",
    "articleOrder = rev(unique(df_StudyQual$ToolArticle))\n",
    "\n",
    "df_StudyQual$ToolArticle = factor(df_StudyQual$ToolArticle,\n",
    "                                  levels=articleOrder)\n",
    "\n",
    "\n",
    "head(df_StudyQual)\n",
    "\n",
    "str(df_StudyQual)"
   ]
  },
  {
   "cell_type": "code",
   "execution_count": 24,
   "id": "eaf7ac9a-e28b-4bc1-abce-dbbad1f72e11",
   "metadata": {},
   "outputs": [
    {
     "data": {
      "text/html": [
       "<table>\n",
       "<thead><tr><th scope=col>ArticleNumber</th><th scope=col>Tool</th><th scope=col>QualOrder</th><th scope=col>Judgement</th><th scope=col>count</th><th scope=col>ToolArticle</th><th scope=col>Prop</th></tr></thead>\n",
       "<tbody>\n",
       "\t<tr><td>Article 26 (6)      </td><td>MMAT                </td><td>0                   </td><td>High                </td><td>3                   </td><td>MMAT: Article 26 (6)</td><td>50%                 </td></tr>\n",
       "\t<tr><td>Article 26 (6)      </td><td>MMAT                </td><td>0                   </td><td>Low                 </td><td>0                   </td><td>MMAT: Article 26 (6)</td><td>0%                  </td></tr>\n",
       "\t<tr><td>Article 26 (6)      </td><td>MMAT                </td><td>0                   </td><td>Unclear/Moderate    </td><td>3                   </td><td>MMAT: Article 26 (6)</td><td>50%                 </td></tr>\n",
       "\t<tr><td>Article 35 (6)      </td><td>MMAT                </td><td>1                   </td><td>High                </td><td>2                   </td><td>MMAT: Article 35 (6)</td><td>33%                 </td></tr>\n",
       "\t<tr><td>Article 35 (6)      </td><td>MMAT                </td><td>1                   </td><td>Low                 </td><td>1                   </td><td>MMAT: Article 35 (6)</td><td>16%                 </td></tr>\n",
       "\t<tr><td>Article 35 (6)      </td><td>MMAT                </td><td>1                   </td><td>Unclear/Moderate    </td><td>3                   </td><td>MMAT: Article 35 (6)</td><td>50%                 </td></tr>\n",
       "</tbody>\n",
       "</table>\n"
      ],
      "text/latex": [
       "\\begin{tabular}{r|lllllll}\n",
       " ArticleNumber & Tool & QualOrder & Judgement & count & ToolArticle & Prop\\\\\n",
       "\\hline\n",
       "\t Article 26 (6)       & MMAT                 & 0                    & High                 & 3                    & MMAT: Article 26 (6) & 50\\%               \\\\\n",
       "\t Article 26 (6)       & MMAT                 & 0                    & Low                  & 0                    & MMAT: Article 26 (6) & 0\\%                \\\\\n",
       "\t Article 26 (6)       & MMAT                 & 0                    & Unclear/Moderate     & 3                    & MMAT: Article 26 (6) & 50\\%               \\\\\n",
       "\t Article 35 (6)       & MMAT                 & 1                    & High                 & 2                    & MMAT: Article 35 (6) & 33\\%               \\\\\n",
       "\t Article 35 (6)       & MMAT                 & 1                    & Low                  & 1                    & MMAT: Article 35 (6) & 16\\%               \\\\\n",
       "\t Article 35 (6)       & MMAT                 & 1                    & Unclear/Moderate     & 3                    & MMAT: Article 35 (6) & 50\\%               \\\\\n",
       "\\end{tabular}\n"
      ],
      "text/markdown": [
       "\n",
       "| ArticleNumber | Tool | QualOrder | Judgement | count | ToolArticle | Prop |\n",
       "|---|---|---|---|---|---|---|\n",
       "| Article 26 (6)       | MMAT                 | 0                    | High                 | 3                    | MMAT: Article 26 (6) | 50%                  |\n",
       "| Article 26 (6)       | MMAT                 | 0                    | Low                  | 0                    | MMAT: Article 26 (6) | 0%                   |\n",
       "| Article 26 (6)       | MMAT                 | 0                    | Unclear/Moderate     | 3                    | MMAT: Article 26 (6) | 50%                  |\n",
       "| Article 35 (6)       | MMAT                 | 1                    | High                 | 2                    | MMAT: Article 35 (6) | 33%                  |\n",
       "| Article 35 (6)       | MMAT                 | 1                    | Low                  | 1                    | MMAT: Article 35 (6) | 16%                  |\n",
       "| Article 35 (6)       | MMAT                 | 1                    | Unclear/Moderate     | 3                    | MMAT: Article 35 (6) | 50%                  |\n",
       "\n"
      ],
      "text/plain": [
       "  ArticleNumber  Tool QualOrder Judgement        count ToolArticle         \n",
       "1 Article 26 (6) MMAT 0         High             3     MMAT: Article 26 (6)\n",
       "2 Article 26 (6) MMAT 0         Low              0     MMAT: Article 26 (6)\n",
       "3 Article 26 (6) MMAT 0         Unclear/Moderate 3     MMAT: Article 26 (6)\n",
       "4 Article 35 (6) MMAT 1         High             2     MMAT: Article 35 (6)\n",
       "5 Article 35 (6) MMAT 1         Low              1     MMAT: Article 35 (6)\n",
       "6 Article 35 (6) MMAT 1         Unclear/Moderate 3     MMAT: Article 35 (6)\n",
       "  Prop\n",
       "1 50% \n",
       "2 0%  \n",
       "3 50% \n",
       "4 33% \n",
       "5 16% \n",
       "6 50% "
      ]
     },
     "metadata": {},
     "output_type": "display_data"
    }
   ],
   "source": [
    "JudgementOrder <- c('High', 'Unclear/Moderate', 'Low')\n",
    "\n",
    "\n",
    "df_StudyQual$Judgement = factor(df_StudyQual$Judgement,\n",
    "                                levels=JudgementOrder)\n",
    "\n",
    "\n",
    "head(df_StudyQual)"
   ]
  },
  {
   "cell_type": "code",
   "execution_count": 25,
   "id": "a3723401-2b57-45dc-83d9-2a67bf0ddb09",
   "metadata": {},
   "outputs": [],
   "source": [
    "#drop 0%\n",
    "df_StudyQualNoNULL = df_StudyQual[df_StudyQual$Prop != c(\"0%\"),]"
   ]
  },
  {
   "cell_type": "code",
   "execution_count": 26,
   "id": "1523cb7e-ff7c-43fa-91e2-2477ab2a29d4",
   "metadata": {},
   "outputs": [
    {
     "data": {
      "image/png": "[encoded data removed]",
      "text/plain": [
       "plot without title"
      ]
     },
     "metadata": {},
     "output_type": "display_data"
    }
   ],
   "source": [
    "data <- df_StudyQualNoNULL\n",
    "\n",
    "plot_StudyQual = ggplot(data,\n",
    "                       aes(\n",
    "                           fill = Judgement,\n",
    "                           y=count, \n",
    "                           \n",
    "                           #order by study quality\n",
    "                           x= reorder(ArticleNumber, QualOrder)\n",
    "                             )) + \n",
    "\n",
    "    geom_bar(position=\"fill\", \n",
    "             stat=\"identity\") +\n",
    "\n",
    "geom_text(aes(label=paste0(Prop)),\n",
    "          position=position_fill(vjust=0.5), \n",
    "          size = 2,\n",
    "          colour=\"black\") +\n",
    "\n",
    "#facet_wrap(~Tool,\n",
    "#          ncol = 4) +\n",
    "\n",
    "#set colours for the scale\n",
    "scale_fill_manual(values= c(\"#d73027\",  \"#ffffbf\", \"#1a9850\"),\n",
    "                 name = \"Risk of bias assessment\",\n",
    "#                 labels = c(\"No\", \"Unclear/Moderate\", \"Yes\")\n",
    "                 ) +\n",
    "\n",
    "\n",
    "\n",
    "#title\n",
    "ggtitle(\"Study Quality\") +\n",
    "        \n",
    "#axis labels\n",
    "xlab(\"Article number (study design)\") +\n",
    "\n",
    "ylab(\"%\") +\n",
    "        \n",
    "\n",
    "\n",
    "#create the theme\n",
    "theme(line = element_blank(),\n",
    "      axis.text.x=element_blank(), \n",
    "      axis.ticks.x=element_blank() ,        \n",
    "       axis.text.y= element_text(size=6)\n",
    "        ) +\n",
    "\n",
    "\n",
    "#flip graph\n",
    "coord_flip() \n",
    "\n",
    "plot_StudyQual"
   ]
  },
  {
   "cell_type": "code",
   "execution_count": 27,
   "id": "05d547e4-8d0d-4ca8-92cc-7547ba759768",
   "metadata": {},
   "outputs": [
    {
     "name": "stderr",
     "output_type": "stream",
     "text": [
      "Saving 6.67 x 6.67 in image\n"
     ]
    }
   ],
   "source": [
    "FileLocation = \"Results/UploadedArticle/Visuals/StudyQual.png\"\n",
    "\n",
    "ggsave(file=FileLocation, plot_StudyQual)"
   ]
  },
  {
   "cell_type": "code",
   "execution_count": null,
   "id": "621ba390-e779-47d8-9ac2-ad7535781652",
   "metadata": {},
   "outputs": [],
   "source": []
  },
  {
   "cell_type": "code",
   "execution_count": null,
   "id": "51054707-e272-483b-bbb2-89433f4855fd",
   "metadata": {},
   "outputs": [],
   "source": []
  },
  {
   "cell_type": "markdown",
   "id": "47e4b87f-63e3-4df7-96da-718cea1d188a",
   "metadata": {},
   "source": [
    "# Get all dependencies"
   ]
  },
  {
   "cell_type": "code",
   "execution_count": 28,
   "id": "f0ef057f-7350-4cbf-ba54-ef3b308a770e",
   "metadata": {},
   "outputs": [
    {
     "data": {
      "text/plain": [
       "R version 3.6.1 (2019-07-05)\n",
       "Platform: x86_64-w64-mingw32/x64 (64-bit)\n",
       "Running under: Windows 10 x64 (build 19045)\n",
       "\n",
       "Matrix products: default\n",
       "\n",
       "locale:\n",
       "[1] LC_COLLATE=English_Australia.1252  LC_CTYPE=English_Australia.1252   \n",
       "[3] LC_MONETARY=English_Australia.1252 LC_NUMERIC=C                      \n",
       "[5] LC_TIME=English_Australia.1252    \n",
       "\n",
       "attached base packages:\n",
       "[1] stats     graphics  grDevices utils     datasets  methods   base     \n",
       "\n",
       "other attached packages:\n",
       "[1] gridExtra_2.3 ggpubr_0.2.5  magrittr_1.5  ggplot2_3.1.1 dplyr_0.8.0.1\n",
       "\n",
       "loaded via a namespace (and not attached):\n",
       " [1] Rcpp_1.0.1       cowplot_1.1.1    tidyselect_0.2.5 munsell_0.5.0   \n",
       " [5] uuid_0.1-2       colorspace_1.4-1 R6_2.4.0         rlang_0.3.4     \n",
       " [9] plyr_1.8.4       tools_3.6.1      grid_3.6.1       gtable_0.3.0    \n",
       "[13] withr_2.1.2      htmltools_0.3.6  lazyeval_0.2.2   assertthat_0.2.1\n",
       "[17] digest_0.6.18    tibble_2.1.1     ggsignif_0.6.1   crayon_1.3.4    \n",
       "[21] IRdisplay_0.7.0  purrr_0.3.2      repr_0.19.2      base64enc_0.1-3 \n",
       "[25] IRkernel_0.8.15  glue_1.3.1       evaluate_0.13    labeling_0.3    \n",
       "[29] pbdZMQ_0.3-3     compiler_3.6.1   pillar_1.3.1     scales_1.0.0    \n",
       "[33] jsonlite_1.6     pkgconfig_2.0.2 "
      ]
     },
     "metadata": {},
     "output_type": "display_data"
    }
   ],
   "source": [
    "sessionInfo()"
   ]
  },
  {
   "cell_type": "code",
   "execution_count": null,
   "id": "fe37137d-8924-4406-bb12-6ee03d3fa7cc",
   "metadata": {},
   "outputs": [],
   "source": []
  }
 ],
 "metadata": {
  "kernelspec": {
   "display_name": "R",
   "language": "R",
   "name": "ir"
  },
  "language_info": {
   "codemirror_mode": "r",
   "file_extension": ".r",
   "mimetype": "text/x-r-source",
   "name": "R",
   "pygments_lexer": "r",
   "version": "3.6.1"
  }
 },
 "nbformat": 4,
 "nbformat_minor": 5
}
