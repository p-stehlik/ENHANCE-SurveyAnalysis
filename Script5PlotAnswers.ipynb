{
 "cells": [
  {
   "cell_type": "markdown",
   "id": "6bb44a8e-af9a-4680-ac2c-5e2cc2913b62",
   "metadata": {},
   "source": [
    "# Visuals of question answers\n",
    "\n",
    "Plots a visual of questions with Yes/No answers."
   ]
  },
  {
   "cell_type": "code",
   "execution_count": 1,
   "id": "525b1945-198f-4e04-b471-a14f1423b6f7",
   "metadata": {},
   "outputs": [
    {
     "name": "stderr",
     "output_type": "stream",
     "text": [
      "\n",
      "Attaching package: 'dplyr'\n",
      "\n",
      "The following objects are masked from 'package:stats':\n",
      "\n",
      "    filter, lag\n",
      "\n",
      "The following objects are masked from 'package:base':\n",
      "\n",
      "    intersect, setdiff, setequal, union\n",
      "\n",
      "Registered S3 methods overwritten by 'ggplot2':\n",
      "  method         from \n",
      "  [.quosures     rlang\n",
      "  c.quosures     rlang\n",
      "  print.quosures rlang\n"
     ]
    }
   ],
   "source": [
    "#load libraries\n",
    "library(dplyr)\n",
    "library(ggplot2)\n",
    "#library(ggpubr)\n",
    "#library(gridExtra)\n",
    "\n",
    "library(stringr)"
   ]
  },
  {
   "cell_type": "code",
   "execution_count": 2,
   "id": "72a17a5f-a0b5-4e59-ae46-9f59cae3cd02",
   "metadata": {},
   "outputs": [],
   "source": [
    "#import file\n",
    "FileName= \"Results/Section1/Tables/ForPlotting_YesNo.csv\"\n",
    "\n",
    "df_YesNo<-read.csv(FileName)\n",
    "\n",
    "\n",
    "#FileName= \"Results/Section1/Tables/ForPlotting_LikertScale.csv\"\n",
    "\n",
    "#df_Likert<-read.csv(FileName)"
   ]
  },
  {
   "cell_type": "markdown",
   "id": "3f077c04-051b-4448-83ad-2282bb420cbe",
   "metadata": {},
   "source": [
    "# Yes No Plot"
   ]
  },
  {
   "cell_type": "code",
   "execution_count": 3,
   "id": "ce2cf395-e397-4f55-83c5-2abc100d52a6",
   "metadata": {},
   "outputs": [],
   "source": [
    "\n",
    "#response order\n",
    "\n",
    "responseOrder = c(\"Yes\",\n",
    "\"No\"\n",
    "                    )\n",
    "\n",
    "\n",
    "df_YesNo$Answer = factor(df_YesNo$Answer,\n",
    "                    levels=responseOrder)\n",
    "\n",
    "\n",
    "\n",
    "#question order\n",
    "\n",
    "questionOrder = rev(c('Searched for a review before to starting project.\\n(n/N = 92/ 267, 34% )',\n",
    "                  'Protocol developed before data collection.\\n(n/N = 92/ 267, 34% )',\n",
    "                  'Protocol registered in a publicly available place.*',\n",
    "                  'Consumers involved in research.\\n(n/N = 90/ 267, 34% )',\n",
    "                  'Research team consisted of members outside of trainee\\'s own profession.*',\n",
    "                  'Adequate access to relevant expertise to while completing scholarly project(s).*',\n",
    "                  'Trainee or colleagues believe that the results are useful in practice.\\n(n/N = 89/ 267, 33% )',\n",
    "                  'Results are publicly available.\\n(n/N = 90/ 267, 34% )',\n",
    "                  'Results presented to department.\\n(n/N = 90/ 267, 34% )',\n",
    "                  'Has considered initiating a new research since completing training.\\n(n/N = 61/ 133, 46% )',\n",
    "                  'Has participated in research projects since completing training.\\n(n/N = 61/ 133, 46% )'                \n",
    "                  \n",
    "                  \n",
    "                                      ))\n",
    "\n",
    "\n",
    "df_YesNo$Question = factor(df_YesNo$Question,\n",
    "                    levels=questionOrder)\n",
    "\n",
    "\n",
    "\n",
    "\n",
    "\n",
    "\n",
    "#df_YesNo\n"
   ]
  },
  {
   "cell_type": "code",
   "execution_count": 4,
   "id": "665db07d-4d76-4e69-b2bd-6495f3298218",
   "metadata": {},
   "outputs": [
    {
     "data": {
      "image/png": "[encoded data removed]",
      "text/plain": [
       "plot without title"
      ]
     },
     "metadata": {},
     "output_type": "display_data"
    }
   ],
   "source": [
    "data <- df_YesNo\n",
    "\n",
    "plot_YesNo = ggplot(data,\n",
    "                       aes(fill = Answer, \n",
    "                           y=PropNum, \n",
    "                           x= Question)) + \n",
    "\n",
    "    geom_col(#position=\"fill\", \n",
    "            # stat=\"identity\",\n",
    "            width = 0.5) +\n",
    "\n",
    "geom_text(aes(label=paste0(data$Prop..of.projects)),\n",
    "          position=position_stack(vjust=0.5), \n",
    "          size = 2.5,\n",
    "          colour=\"black\") +\n",
    "\n",
    "\n",
    "#set colours for the scale\n",
    "scale_fill_manual(values= c(\"#2c7bb6\",\n",
    "                            '#d7191c'\n",
    "                               ),\n",
    "                 name = \" \",\n",
    "                 labels = c('Yes', \"No\")\n",
    ") +\n",
    "\n",
    "\n",
    "#let questions go on multiple lines\n",
    "scale_x_discrete(labels = function(x) str_wrap(x, width = 33)) +\n",
    "\n",
    "#title\n",
    "ggtitle(\"\") +\n",
    "        \n",
    "#axis labels\n",
    "xlab(\"\") +\n",
    "\n",
    "ylab(\"\") +\n",
    "        \n",
    "\n",
    "\n",
    "#create the theme\n",
    "theme(#line = element_blank(),\n",
    "     # axis.text.x=element_blank(), \n",
    "  #    axis.ticks.x=element_blank() ,        \n",
    "       axis.text.y= element_text(size=10),\n",
    "    axis.text.x= element_text(size=10),\n",
    "    axis.title.x= element_text(size=10),\n",
    "    axis.title.y= element_text(size=10),\n",
    "   #   legend.position=\"bottom\"\n",
    "    panel.border =element_rect(colour = \"black\", fill=NA),\n",
    "    panel.background = element_blank()\n",
    "        ) +\n",
    "\n",
    "geom_hline(yintercept=0, linetype='dashed', col = 'black')+\n",
    "\n",
    "scale_y_continuous(labels = function(x) paste0(x, \"%\")) + # Add percent sign to axis\n",
    "\n",
    "#flip graph\n",
    "coord_flip() \n",
    "\n",
    "plot_YesNo\n"
   ]
  },
  {
   "cell_type": "code",
   "execution_count": 5,
   "id": "7829eda0-c93d-41ed-9375-9b25bc6dddfb",
   "metadata": {},
   "outputs": [
    {
     "name": "stderr",
     "output_type": "stream",
     "text": [
      "Saving 6.67 x 6.67 in image\n"
     ]
    }
   ],
   "source": [
    "FileName = \"Results/Section1/Plot_YesNo.png\"\n",
    "\n",
    "ggsave(file=FileName, plot_YesNo)"
   ]
  },
  {
   "cell_type": "code",
   "execution_count": null,
   "id": "0b6112bd-0da2-4f77-8926-24d4977f2318",
   "metadata": {},
   "outputs": [],
   "source": []
  },
  {
   "cell_type": "markdown",
   "id": "e3d65026-bed6-4276-b0ec-935cf7594a35",
   "metadata": {},
   "source": [
    "# Get all dependencies"
   ]
  },
  {
   "cell_type": "code",
   "execution_count": 6,
   "id": "f0ef057f-7350-4cbf-ba54-ef3b308a770e",
   "metadata": {},
   "outputs": [
    {
     "data": {
      "text/plain": [
       "R version 3.6.1 (2019-07-05)\n",
       "Platform: x86_64-w64-mingw32/x64 (64-bit)\n",
       "Running under: Windows 10 x64 (build 19045)\n",
       "\n",
       "Matrix products: default\n",
       "\n",
       "locale:\n",
       "[1] LC_COLLATE=English_Australia.1252  LC_CTYPE=English_Australia.1252   \n",
       "[3] LC_MONETARY=English_Australia.1252 LC_NUMERIC=C                      \n",
       "[5] LC_TIME=English_Australia.1252    \n",
       "\n",
       "attached base packages:\n",
       "[1] stats     graphics  grDevices utils     datasets  methods   base     \n",
       "\n",
       "other attached packages:\n",
       "[1] stringr_1.4.0 ggplot2_3.1.1 dplyr_0.8.0.1\n",
       "\n",
       "loaded via a namespace (and not attached):\n",
       " [1] Rcpp_1.0.1       magrittr_1.5     tidyselect_0.2.5 munsell_0.5.0   \n",
       " [5] uuid_0.1-2       colorspace_1.4-1 R6_2.4.0         rlang_0.3.4     \n",
       " [9] plyr_1.8.4       tools_3.6.1      grid_3.6.1       gtable_0.3.0    \n",
       "[13] withr_2.1.2      htmltools_0.3.6  lazyeval_0.2.2   assertthat_0.2.1\n",
       "[17] digest_0.6.18    tibble_2.1.1     crayon_1.3.4     IRdisplay_0.7.0 \n",
       "[21] purrr_0.3.2      repr_0.19.2      base64enc_0.1-3  IRkernel_0.8.15 \n",
       "[25] glue_1.3.1       evaluate_0.13    labeling_0.3     stringi_1.4.3   \n",
       "[29] pbdZMQ_0.3-3     compiler_3.6.1   pillar_1.3.1     scales_1.0.0    \n",
       "[33] jsonlite_1.6     pkgconfig_2.0.2 "
      ]
     },
     "metadata": {},
     "output_type": "display_data"
    }
   ],
   "source": [
    "sessionInfo()"
   ]
  },
  {
   "cell_type": "code",
   "execution_count": null,
   "id": "884a8c2d-b6b8-44dc-8503-1470ea05a3bb",
   "metadata": {},
   "outputs": [],
   "source": []
  },
  {
   "cell_type": "code",
   "execution_count": null,
   "id": "a473ef55-46c4-4586-866a-4578f3053e3b",
   "metadata": {},
   "outputs": [],
   "source": []
  },
  {
   "cell_type": "code",
   "execution_count": null,
   "id": "bcb271a0-09ec-4072-876b-cc0d2cb3e583",
   "metadata": {},
   "outputs": [],
   "source": []
  },
  {
   "cell_type": "code",
   "execution_count": null,
   "id": "35c6a330-3b99-4631-8f97-3c04cf57259b",
   "metadata": {},
   "outputs": [],
   "source": []
  }
 ],
 "metadata": {
  "kernelspec": {
   "display_name": "R",
   "language": "R",
   "name": "ir"
  },
  "language_info": {
   "codemirror_mode": "r",
   "file_extension": ".r",
   "mimetype": "text/x-r-source",
   "name": "R",
   "pygments_lexer": "r",
   "version": "3.6.1"
  }
 },
 "nbformat": 4,
 "nbformat_minor": 5
}
